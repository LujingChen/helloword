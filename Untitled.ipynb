{
 "cells": [
  {
   "cell_type": "code",
   "execution_count": 2,
   "metadata": {
    "collapsed": true
   },
   "outputs": [],
   "source": [
    "import numpy as np\n",
    "import pandas as pd\n",
    "import matplotlib.pyplot as plt"
   ]
  },
  {
   "cell_type": "code",
   "execution_count": 3,
   "metadata": {
    "collapsed": false
   },
   "outputs": [],
   "source": [
    "#load the data\n",
    "df = pd.read_csv('wikipedia_traffic.csv')"
   ]
  },
  {
   "cell_type": "markdown",
   "metadata": {},
   "source": [
    "Q1. Which 20 languages had the highest total number of requests? For the remainder of this assignment, only use data from these 20 languages. it is shown in the table below."
   ]
  },
  {
   "cell_type": "code",
   "execution_count": 5,
   "metadata": {
    "collapsed": false
   },
   "outputs": [],
   "source": [
    "#get language count\n",
    "languages_freq = df['language'].value_counts()"
   ]
  },
  {
   "cell_type": "code",
   "execution_count": 6,
   "metadata": {
    "collapsed": false
   },
   "outputs": [
    {
     "data": {
      "text/plain": [
       "en    2429237\n",
       "de     442162\n",
       "ru     435168\n",
       "ja     427771\n",
       "pl     352481\n",
       "fr     327456\n",
       "it     283530\n",
       "es     261808\n",
       "zh     209475\n",
       "pt     179201\n",
       "nl     137477\n",
       "ko      91610\n",
       "sv      90761\n",
       "tr      68020\n",
       "cs      61390\n",
       "ar      58448\n",
       "fi      52798\n",
       "uk      44843\n",
       "hu      42693\n",
       "id      41464\n",
       "Name: language, dtype: int64"
      ]
     },
     "execution_count": 6,
     "metadata": {},
     "output_type": "execute_result"
    }
   ],
   "source": [
    "#get top 20 languages\n",
    "languages_freq.nlargest(20)"
   ]
  },
  {
   "cell_type": "code",
   "execution_count": 7,
   "metadata": {
    "collapsed": false
   },
   "outputs": [],
   "source": [
    "#get top 20 languages as a list\n",
    "top_20_lang_list = languages_freq.nlargest(20).index"
   ]
  },
  {
   "cell_type": "code",
   "execution_count": 8,
   "metadata": {
    "collapsed": false
   },
   "outputs": [
    {
     "data": {
      "text/plain": [
       "en    2429237\n",
       "de     442162\n",
       "ru     435168\n",
       "ja     427771\n",
       "pl     352481\n",
       "fr     327456\n",
       "it     283530\n",
       "es     261808\n",
       "zh     209475\n",
       "pt     179201\n",
       "nl     137477\n",
       "ko      91610\n",
       "sv      90761\n",
       "tr      68020\n",
       "cs      61390\n",
       "ar      58448\n",
       "fi      52798\n",
       "uk      44843\n",
       "hu      42693\n",
       "id      41464\n",
       "Name: language, dtype: int64"
      ]
     },
     "execution_count": 8,
     "metadata": {},
     "output_type": "execute_result"
    }
   ],
   "source": [
    "#only use data from these 20 languages\n",
    "df_2 = df[df['language'].isin(top_20_lang_list)]\n",
    "#check\n",
    "languages_freq = df_2['language'].value_counts()\n",
    "languages_freq"
   ]
  },
  {
   "cell_type": "markdown",
   "metadata": {},
   "source": [
    "Q2. Which language had the highest median page size (bytes sent per request)?\n",
    "ja"
   ]
  },
  {
   "cell_type": "code",
   "execution_count": 18,
   "metadata": {
    "collapsed": false
   },
   "outputs": [],
   "source": [
    "a =  df_2[[\"requests\"]].divide(df_2[\"bytes\"], axis=\"index\")\n",
    "b = df_2.loc[:,['language']]\n",
    "c = pd.merge(b, a, left_index=True, right_index=True)\n",
    "d = c.groupby(['language']).median()"
   ]
  },
  {
   "cell_type": "code",
   "execution_count": 42,
   "metadata": {
    "collapsed": false
   },
   "outputs": [
    {
     "data": {
      "text/html": [
       "<div>\n",
       "<style>\n",
       "    .dataframe thead tr:only-child th {\n",
       "        text-align: right;\n",
       "    }\n",
       "\n",
       "    .dataframe thead th {\n",
       "        text-align: left;\n",
       "    }\n",
       "\n",
       "    .dataframe tbody tr th {\n",
       "        vertical-align: top;\n",
       "    }\n",
       "</style>\n",
       "<table border=\"1\" class=\"dataframe\">\n",
       "  <thead>\n",
       "    <tr style=\"text-align: right;\">\n",
       "      <th></th>\n",
       "      <th>requests</th>\n",
       "    </tr>\n",
       "    <tr>\n",
       "      <th>language</th>\n",
       "      <th></th>\n",
       "    </tr>\n",
       "  </thead>\n",
       "  <tbody>\n",
       "    <tr>\n",
       "      <th>ja</th>\n",
       "      <td>inf</td>\n",
       "    </tr>\n",
       "    <tr>\n",
       "      <th>sv</th>\n",
       "      <td>0.000104</td>\n",
       "    </tr>\n",
       "    <tr>\n",
       "      <th>id</th>\n",
       "      <td>0.000102</td>\n",
       "    </tr>\n",
       "    <tr>\n",
       "      <th>fi</th>\n",
       "      <td>0.000095</td>\n",
       "    </tr>\n",
       "    <tr>\n",
       "      <th>it</th>\n",
       "      <td>0.000090</td>\n",
       "    </tr>\n",
       "    <tr>\n",
       "      <th>tr</th>\n",
       "      <td>0.000089</td>\n",
       "    </tr>\n",
       "    <tr>\n",
       "      <th>nl</th>\n",
       "      <td>0.000088</td>\n",
       "    </tr>\n",
       "    <tr>\n",
       "      <th>cs</th>\n",
       "      <td>0.000086</td>\n",
       "    </tr>\n",
       "    <tr>\n",
       "      <th>es</th>\n",
       "      <td>0.000086</td>\n",
       "    </tr>\n",
       "    <tr>\n",
       "      <th>de</th>\n",
       "      <td>0.000085</td>\n",
       "    </tr>\n",
       "    <tr>\n",
       "      <th>en</th>\n",
       "      <td>0.000084</td>\n",
       "    </tr>\n",
       "    <tr>\n",
       "      <th>zh</th>\n",
       "      <td>0.000081</td>\n",
       "    </tr>\n",
       "    <tr>\n",
       "      <th>pt</th>\n",
       "      <td>0.000080</td>\n",
       "    </tr>\n",
       "    <tr>\n",
       "      <th>uk</th>\n",
       "      <td>0.000078</td>\n",
       "    </tr>\n",
       "    <tr>\n",
       "      <th>fr</th>\n",
       "      <td>0.000078</td>\n",
       "    </tr>\n",
       "    <tr>\n",
       "      <th>hu</th>\n",
       "      <td>0.000078</td>\n",
       "    </tr>\n",
       "    <tr>\n",
       "      <th>ar</th>\n",
       "      <td>0.000078</td>\n",
       "    </tr>\n",
       "    <tr>\n",
       "      <th>ru</th>\n",
       "      <td>0.000064</td>\n",
       "    </tr>\n",
       "    <tr>\n",
       "      <th>pl</th>\n",
       "      <td>0.000038</td>\n",
       "    </tr>\n",
       "    <tr>\n",
       "      <th>ko</th>\n",
       "      <td>0.000036</td>\n",
       "    </tr>\n",
       "  </tbody>\n",
       "</table>\n",
       "</div>"
      ],
      "text/plain": [
       "          requests\n",
       "language          \n",
       "ja             inf\n",
       "sv        0.000104\n",
       "id        0.000102\n",
       "fi        0.000095\n",
       "it        0.000090\n",
       "tr        0.000089\n",
       "nl        0.000088\n",
       "cs        0.000086\n",
       "es        0.000086\n",
       "de        0.000085\n",
       "en        0.000084\n",
       "zh        0.000081\n",
       "pt        0.000080\n",
       "uk        0.000078\n",
       "fr        0.000078\n",
       "hu        0.000078\n",
       "ar        0.000078\n",
       "ru        0.000064\n",
       "pl        0.000038\n",
       "ko        0.000036"
      ]
     },
     "execution_count": 42,
     "metadata": {},
     "output_type": "execute_result"
    }
   ],
   "source": [
    "d.sort_values('requests',ascending=False)"
   ]
  },
  {
   "cell_type": "markdown",
   "metadata": {},
   "source": [
    "Q3. How many total requests were made to pages with names containing the substring “Obama”?# \n",
    "577"
   ]
  },
  {
   "cell_type": "code",
   "execution_count": 66,
   "metadata": {
    "collapsed": false
   },
   "outputs": [
    {
     "data": {
      "text/plain": [
       "577"
      ]
     },
     "execution_count": 66,
     "metadata": {},
     "output_type": "execute_result"
    }
   ],
   "source": [
    "a = df_2['page_name'].str.contains('Obama')\n",
    "a.sum()"
   ]
  },
  {
   "cell_type": "markdown",
   "metadata": {},
   "source": [
    "Q4. Other than English, which language had the most Obama pages and how many pages did it\n",
    "have?\n",
    "it, pl, ja, fr,de,zh, es are ranked from second to eighth accordingly."
   ]
  },
  {
   "cell_type": "code",
   "execution_count": 75,
   "metadata": {
    "collapsed": false
   },
   "outputs": [],
   "source": [
    "df_Obama = df_2[df_2['page_name'].str.contains('Obama', na=False)]\n",
    "languages_freq = df_Obama['language'].value_counts()"
   ]
  },
  {
   "cell_type": "code",
   "execution_count": 77,
   "metadata": {
    "collapsed": false
   },
   "outputs": [
    {
     "data": {
      "text/plain": [
       "en    427\n",
       "it     20\n",
       "pl     17\n",
       "ja     15\n",
       "fr     15\n",
       "de     13\n",
       "zh     11\n",
       "es     10\n",
       "pt      9\n",
       "tr      7\n",
       "ru      6\n",
       "nl      5\n",
       "id      5\n",
       "hu      5\n",
       "cs      4\n",
       "sv      4\n",
       "fi      2\n",
       "ar      1\n",
       "ko      1\n",
       "Name: language, dtype: int64"
      ]
     },
     "execution_count": 77,
     "metadata": {},
     "output_type": "execute_result"
    }
   ],
   "source": [
    "languages_freq "
   ]
  },
  {
   "cell_type": "markdown",
   "metadata": {},
   "source": [
    "Q5. How many English pages (en) have the same name as a Spanish page (es)? Which of those pages had\n",
    "the most total English and Spanish bytes sent?\n",
    "\n",
    "61122 English pages (en) have the same name as a Spanish page (es);\n",
    "Iron_Man_3 gets the most total English and Spanish bytes sent"
   ]
  },
  {
   "cell_type": "code",
   "execution_count": 101,
   "metadata": {
    "collapsed": true
   },
   "outputs": [],
   "source": [
    "#get two languages's rows\n",
    "df_only_EnEs = df[df['language'].isin(['en','es'])]"
   ]
  },
  {
   "cell_type": "code",
   "execution_count": 106,
   "metadata": {
    "collapsed": false,
    "scrolled": true
   },
   "outputs": [
    {
     "data": {
      "text/plain": [
       "61122"
      ]
     },
     "execution_count": 106,
     "metadata": {},
     "output_type": "execute_result"
    }
   ],
   "source": [
    "a= df_only_EnEs['page_name'].value_counts()\n",
    "a = a[a == 2]\n",
    "len(a)"
   ]
  },
  {
   "cell_type": "code",
   "execution_count": 91,
   "metadata": {
    "collapsed": false
   },
   "outputs": [],
   "source": [
    "b = a.index"
   ]
  },
  {
   "cell_type": "code",
   "execution_count": 93,
   "metadata": {
    "collapsed": false
   },
   "outputs": [],
   "source": [
    "df_EnEs_same_page = df_only_EnEs[df_only_EnEs['page_name'].isin(b)]"
   ]
  },
  {
   "cell_type": "code",
   "execution_count": 107,
   "metadata": {
    "collapsed": false
   },
   "outputs": [],
   "source": [
    "#df_EnEs_same_page.groupby(['page_name']).sum().sort_values('bytes',ascending=False)"
   ]
  },
  {
   "cell_type": "markdown",
   "metadata": {},
   "source": [
    "Q6. Construct one or more data visualizations which shows the relationship between the number of\n",
    "words in a page title (where words are underscore delimited), and the number of requests.\n",
    "\n",
    "The relation ship is positivele skewed, which means the the number of requests goes down dramatically as the number of words in a page title increase. There are some extremely big request values for those title with a few words, while the long tail of the right side of the x axis is pretty obvious too."
   ]
  },
  {
   "cell_type": "code",
   "execution_count": 53,
   "metadata": {
    "collapsed": false,
    "scrolled": true
   },
   "outputs": [],
   "source": [
    "df_2_parsed = df_2['page_name'].str.split(pat = '_',  expand=True)"
   ]
  },
  {
   "cell_type": "code",
   "execution_count": 57,
   "metadata": {
    "collapsed": false
   },
   "outputs": [],
   "source": [
    "a = df_2_parsed.count(axis=1)"
   ]
  },
  {
   "cell_type": "code",
   "execution_count": 104,
   "metadata": {
    "collapsed": false
   },
   "outputs": [],
   "source": [
    "b = df_2['requests']"
   ]
  },
  {
   "cell_type": "code",
   "execution_count": 102,
   "metadata": {
    "collapsed": false
   },
   "outputs": [],
   "source": [
    "a_array = a.astype(float)\n",
    "b_array = b.astype(float)"
   ]
  },
  {
   "cell_type": "code",
   "execution_count": 106,
   "metadata": {
    "collapsed": false
   },
   "outputs": [
    {
     "data": {
      "image/png": "[encoded data removed]",
      "text/plain": [
       "<matplotlib.figure.Figure at 0x113254240>"
      ]
     },
     "metadata": {},
     "output_type": "display_data"
    }
   ],
   "source": [
    "import matplotlib.pyplot as plt\n",
    "# Plot\n",
    "plt.scatter(a_array, b_array,  alpha=0.5)\n",
    "plt.title('Scatter plot of the number of words in a page title and the number of requests')\n",
    "plt.xlabel('the number of words in a page title')\n",
    "plt.ylabel('the number of requests')\n",
    "plt.show()"
   ]
  },
  {
   "cell_type": "markdown",
   "metadata": {
    "collapsed": true
   },
   "source": [
    "Q7. Please include any other interesting analyses and/or visualizations that you have produced."
   ]
  },
  {
   "cell_type": "code",
   "execution_count": 136,
   "metadata": {
    "collapsed": false
   },
   "outputs": [
    {
     "data": {
      "text/plain": [
       "<matplotlib.text.Text at 0x8ae0aeb8>"
      ]
     },
     "execution_count": 136,
     "metadata": {},
     "output_type": "execute_result"
    },
    {
     "data": {
      "image/png": "[encoded data removed]",
      "text/plain": [
       "<matplotlib.figure.Figure at 0xdd568470>"
      ]
     },
     "metadata": {},
     "output_type": "display_data"
    }
   ],
   "source": [
    "import seaborn as sns\n",
    "sns.pairplot(x_vars=[\"requests\"], y_vars=[\"bytes\"], data=df_2, hue=\"language\", size=5)\n",
    "plt.title('the number of requests and bytes, goupby language')"
   ]
  },
  {
   "cell_type": "markdown",
   "metadata": {},
   "source": [
    "Q8. Please note here any bugs you may have found in the data or assignment instructions.\n",
    "\n",
    "the language has highest median page size (bytes sent per request)? ja is infinite, which do not make sense."
   ]
  }
 ],
 "metadata": {
  "anaconda-cloud": {},
  "kernelspec": {
   "display_name": "Python [conda env:DAND]",
   "language": "python",
   "name": "conda-env-DAND-py"
  },
  "language_info": {
   "codemirror_mode": {
    "name": "ipython",
    "version": 2
   },
   "file_extension": ".py",
   "mimetype": "text/x-python",
   "name": "python",
   "nbconvert_exporter": "python",
   "pygments_lexer": "ipython2",
   "version": "2.7.12"
  }
 },
 "nbformat": 4,
 "nbformat_minor": 2
}
